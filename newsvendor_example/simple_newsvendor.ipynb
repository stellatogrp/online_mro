{
 "cells": [
  {
   "cell_type": "code",
   "execution_count": 19,
   "metadata": {},
   "outputs": [],
   "source": [
    "import cvxpy as cp\n",
    "import numpy as np\n",
    "import pandas as pd\n",
    "from sklearn.cluster import KMeans\n",
    "import matplotlib.pyplot as plt\n",
    "import warnings\n",
    "warnings.filterwarnings('ignore')"
   ]
  },
  {
   "cell_type": "code",
   "execution_count": 23,
   "metadata": {},
   "outputs": [],
   "source": [
    "def prob_news(K, n):\n",
    "    \"\"\"Create the problem in cvxpy\n",
    "    Parameters\n",
    "    ----------\n",
    "    K: int\n",
    "        Number of data samples (clusters)\n",
    "    n: int\n",
    "        Number of products\n",
    "    Returns\n",
    "    -------\n",
    "    The instance and parameters of the cvxpy problem\n",
    "    \"\"\"\n",
    "    d_train = cp.Parameter((K, 2))\n",
    "    x = cp.Variable(2)\n",
    "    s = cp.Variable(K)\n",
    "    buy_p = cp.Parameter(2)\n",
    "    sell_p = cp.Parameter(2)\n",
    "    wk = cp.Parameter(K)\n",
    "    lam = cp.Variable()\n",
    "    eps = cp.Parameter()\n",
    "    C_r = np.vstack([-np.eye(2), np.eye(2)])\n",
    "    d_r = np.hstack([np.zeros(2), np.ones(2)*40])\n",
    "    gam = cp.Variable((4, K*4))\n",
    "\n",
    "    objective = cp.Minimize(buy_p@x + eps*lam + s@wk)\n",
    "    constraints = []\n",
    "    # formulate constraints\n",
    "\n",
    "    for k in range(K):\n",
    "        constraints += [-sell_p@x\n",
    "                        + gam[0, (k*4):((k+1)*4)]@(\n",
    "                            d_r - C_r@d_train[k]) <= s[k]]\n",
    "        constraints += [-sell_p[0]*x[0] - d_train[k] @\n",
    "                        (sell_p[1]*np.array([0, 1]))\n",
    "                        + gam[1, (k*4):((k+1)*4)]@(d_r\n",
    "                                                   - C_r@d_train[k]) <= s[k]]\n",
    "        constraints += [-d_train[k]@(sell_p[0]*np.array([1, 0]))\n",
    "                        - sell_p[1]*x[1] +\n",
    "                        gam[2, (k*4):((k+1)*4)]@(d_r - C_r@d_train[k]) <= s[k]]\n",
    "        constraints += [-d_train[k]@(sell_p) +\n",
    "                        gam[3, (k*4):((k+1)*4)]@(d_r - C_r@d_train[k]) <= s[k]]\n",
    "        constraints += [cp.norm(C_r.T@gam[0, (k*4):((k+1)*4)],1) <= lam]\n",
    "        constraints += [cp.norm(C_r.T@gam[1, (k*4):((k+1)*4)] +\n",
    "                                sell_p[1]*np.array([0, 1]), 1) <= lam]\n",
    "        constraints += [cp.norm(C_r.T@gam[2, (k*4):((k+1)*4)] +\n",
    "                                sell_p[0]*np.array([1, 0]), 1) <= lam]\n",
    "        constraints += [cp.norm(C_r.T@gam[3, (k*4):((k+1)*4)] +\n",
    "                                sell_p, 1) <= lam]\n",
    "\n",
    "    constraints += [x >= 0, gam >= 0]\n",
    "\n",
    "    problem = cp.Problem(objective, constraints)\n",
    "\n",
    "    return problem, x, s, lam, d_train, wk, eps, gam, buy_p, sell_p"
   ]
  },
  {
   "cell_type": "code",
   "execution_count": 24,
   "metadata": {},
   "outputs": [],
   "source": [
    "def gen_demand(N, R, seed):\n",
    "    \"\"\" Generates log-normal demand, clipped to be within polyhedral\"\"\"\n",
    "    np.random.seed(seed)\n",
    "    sig = np.array([[0.3, -0.1], [-0.1, 0.2]])\n",
    "    mu = np.array((3, 2.8))\n",
    "    norms = np.random.multivariate_normal(mu, sig, (N, R))\n",
    "    d_train = np.exp(norms)\n",
    "    d_train = np.minimum(d_train, 40)\n",
    "    # d_train = np.round(d_train)\n",
    "    return d_train"
   ]
  },
  {
   "cell_type": "code",
   "execution_count": 25,
   "metadata": {},
   "outputs": [],
   "source": [
    "def cluster_data(D_in, K):\n",
    "    \"\"\"Return K cluster means after clustering D_in into K clusters\n",
    "    Parameters\n",
    "    ----------\n",
    "    D_in: array\n",
    "        Input dataset, N entries\n",
    "    Returns\n",
    "    -------\n",
    "    Dbar_in: array\n",
    "        Output dataset, K entries\n",
    "    weights: vector\n",
    "        Vector of weights for Dbar_in\n",
    "    \"\"\"\n",
    "    N = D_in.shape[0]\n",
    "    kmeans = KMeans(n_clusters=K,n_init = 'auto').fit(D_in)\n",
    "    Dbar_in = kmeans.cluster_centers_\n",
    "    weights = np.bincount(kmeans.labels_) / N\n",
    "\n",
    "    return Dbar_in, weights, kmeans"
   ]
  },
  {
   "cell_type": "code",
   "execution_count": 26,
   "metadata": {},
   "outputs": [],
   "source": [
    "def evaluate(buy_p, sell_p, x, d):\n",
    "    \"\"\" Calculates the out of sample expected value\n",
    "    Parameters\n",
    "    ----------\n",
    "    buy_p: vector\n",
    "        Buying Prices\n",
    "    sell_p: vector\n",
    "        Selling Prices\n",
    "    x: vector\n",
    "        Decision variables of the optimization problem\n",
    "    d: matrix\n",
    "        Validation data matrix\n",
    "    Returns:\n",
    "    -------\n",
    "    float: out of sample expected value\n",
    "    \"\"\"\n",
    "    totval = 0\n",
    "    totval = np.maximum(-sell_p[0]*x.value[0], -sell_p[0]*d[:, 0]) + \\\n",
    "        np.maximum(-sell_p[1]*x.value[1], -sell_p[1]*d[:, 1])\n",
    "    return buy_p@x.value + np.mean(totval)"
   ]
  },
  {
   "cell_type": "code",
   "execution_count": 27,
   "metadata": {},
   "outputs": [],
   "source": [
    "N_tot = 100 #Total number of data-points\n",
    "M = 10\n",
    "R = 30     # Total times we repeat experiment to estimate final probabilty\n",
    "n = 2  # number of products\n",
    "eps_nums = np.linspace(0.01,3,30)\n",
    "\n",
    "buy_pval = np.array([4., 5.])\n",
    "sell_pval = np.array([5, 6.5])\n",
    "C_r = np.vstack([-np.eye(2), np.eye(2)])\n",
    "\n",
    "Data = gen_demand(N_tot, R, 2)\n",
    "Data_eval = gen_demand(N_tot, R, 3)"
   ]
  },
  {
   "cell_type": "code",
   "execution_count": 29,
   "metadata": {},
   "outputs": [
    {
     "name": "stdout",
     "output_type": "stream",
     "text": [
      "DRO objective value : -23.017692059395344\n",
      "Out-of-sample expected value : -23.599809336704084\n",
      "Boolean for constraint satisfaction:  1.0\n"
     ]
    }
   ],
   "source": [
    "K = 10 # number of clusters\n",
    "r = 0 # current iteration\n",
    "eps = 0.1 #current epsilon\n",
    "\n",
    "dat_orig = Data[:, r, :]\n",
    "d_train, wk, kmeans = cluster_data(dat_orig, K)\n",
    "dat_eval = Data_eval[:, r, :]\n",
    "problem, x, s, lam, data_train_pm, w_pm, eps_pm, gam, buy_p, sell_p = prob_news(K, n)\n",
    "data_train_pm.value = d_train\n",
    "w_pm.value = wk\n",
    "buy_p.value = buy_pval\n",
    "sell_p.value = sell_pval\n",
    "eps_pm.value = eps\n",
    "problem.solve(solver = cp.CLARABEL)\n",
    "evalvalue = evaluate(buy_pval, sell_pval, x, dat_eval) \n",
    "satisfy = float(evalvalue <= problem.objective.value) \n",
    "print(\"DRO objective value :\", problem.objective.value)\n",
    "print(\"Out-of-sample expected value :\", evalvalue)\n",
    "print(\"Boolean for constraint satisfaction: \", satisfy)"
   ]
  }
 ],
 "metadata": {
  "kernelspec": {
   "display_name": "Python 3",
   "language": "python",
   "name": "python3"
  },
  "language_info": {
   "codemirror_mode": {
    "name": "ipython",
    "version": 3
   },
   "file_extension": ".py",
   "mimetype": "text/x-python",
   "name": "python",
   "nbconvert_exporter": "python",
   "pygments_lexer": "ipython3",
   "version": "3.11.0"
  }
 },
 "nbformat": 4,
 "nbformat_minor": 2
}
