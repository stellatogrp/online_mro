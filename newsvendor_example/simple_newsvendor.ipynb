{
 "cells": [
  {
   "cell_type": "code",
   "execution_count": 1,
   "metadata": {},
   "outputs": [],
   "source": [
    "import cvxpy as cp\n",
    "import numpy as np\n",
    "import pandas as pd\n",
    "from sklearn.cluster import KMeans\n",
    "import matplotlib.pyplot as plt\n",
    "import warnings\n",
    "warnings.filterwarnings('ignore')"
   ]
  },
  {
   "cell_type": "code",
   "execution_count": 8,
   "metadata": {},
   "outputs": [],
   "source": [
    "def prob_news(K, n):\n",
    "    \"\"\"Create the problem in cvxpy\n",
    "    Parameters\n",
    "    ----------\n",
    "    K: int\n",
    "        Number of data samples (clusters)\n",
    "    n: int\n",
    "        Number of products\n",
    "    Returns\n",
    "    -------\n",
    "    The instance and parameters of the cvxpy problem\n",
    "    \"\"\"\n",
    "    d_train = cp.Parameter((K, 2))\n",
    "    x = cp.Variable(2)\n",
    "    s = cp.Variable(K)\n",
    "    buy_p = cp.Parameter(2)\n",
    "    sell_p = cp.Parameter(2)\n",
    "    wk = cp.Parameter(K)\n",
    "    lam = cp.Variable()\n",
    "    eps = cp.Parameter()\n",
    "    C_r = np.vstack([-np.eye(2), np.eye(2)])\n",
    "    d_r = np.hstack([np.zeros(2), np.ones(2)*40])\n",
    "    gam = cp.Variable((4, K*4))\n",
    "\n",
    "    objective = cp.Minimize(buy_p@x + eps*lam + s@wk)\n",
    "    constraints = []\n",
    "    # formulate constraints\n",
    "\n",
    "    for k in range(K):\n",
    "        constraints += [-sell_p@x\n",
    "                        + gam[0, (k*4):((k+1)*4)]@(\n",
    "                            d_r - C_r@d_train[k]) <= s[k]]\n",
    "        constraints += [-sell_p[0]*x[0] - d_train[k] @\n",
    "                        (sell_p[1]*np.array([0, 1]))\n",
    "                        + gam[1, (k*4):((k+1)*4)]@(d_r\n",
    "                                                   - C_r@d_train[k]) <= s[k]]\n",
    "        constraints += [-d_train[k]@(sell_p[0]*np.array([1, 0]))\n",
    "                        - sell_p[1]*x[1] +\n",
    "                        gam[2, (k*4):((k+1)*4)]@(d_r - C_r@d_train[k]) <= s[k]]\n",
    "        constraints += [-d_train[k]@(sell_p) +\n",
    "                        gam[3, (k*4):((k+1)*4)]@(d_r - C_r@d_train[k]) <= s[k]]\n",
    "        constraints += [cp.norm(C_r.T@gam[0, (k*4):((k+1)*4)],1) <= lam]\n",
    "        constraints += [cp.norm(C_r.T@gam[1, (k*4):((k+1)*4)] +\n",
    "                                sell_p[1]*np.array([0, 1]), 1) <= lam]\n",
    "        constraints += [cp.norm(C_r.T@gam[2, (k*4):((k+1)*4)] +\n",
    "                                sell_p[0]*np.array([1, 0]), 1) <= lam]\n",
    "        constraints += [cp.norm(C_r.T@gam[3, (k*4):((k+1)*4)] +\n",
    "                                sell_p, 1) <= lam]\n",
    "\n",
    "    constraints += [x >= 0, gam >= 0]\n",
    "\n",
    "    problem = cp.Problem(objective, constraints)\n",
    "\n",
    "    return problem, x, s, lam, d_train, wk, eps, gam, buy_p, sell_p"
   ]
  },
  {
   "cell_type": "code",
   "execution_count": 9,
   "metadata": {},
   "outputs": [],
   "source": [
    "def gen_demand(N, R, seed):\n",
    "    \"\"\" Generates log-normal demand, clipped to be within polyhedral\"\"\"\n",
    "    np.random.seed(seed)\n",
    "    sig = np.array([[0.3, -0.1], [-0.1, 0.2]])\n",
    "    mu = np.array((3, 2.8))\n",
    "    norms = np.random.multivariate_normal(mu, sig, (N, R))\n",
    "    d_train = np.exp(norms)\n",
    "    d_train = np.minimum(d_train, 40)\n",
    "    # d_train = np.round(d_train)\n",
    "    return d_train"
   ]
  },
  {
   "cell_type": "code",
   "execution_count": 10,
   "metadata": {},
   "outputs": [],
   "source": [
    "def cluster_data(D_in, K):\n",
    "    \"\"\"Return K cluster means after clustering D_in into K clusters\n",
    "    Parameters\n",
    "    ----------\n",
    "    D_in: array\n",
    "        Input dataset, N entries\n",
    "    Returns\n",
    "    -------\n",
    "    Dbar_in: array\n",
    "        Output dataset, K entries\n",
    "    weights: vector\n",
    "        Vector of weights for Dbar_in\n",
    "    \"\"\"\n",
    "    N = D_in.shape[0]\n",
    "    kmeans = KMeans(n_clusters=K,n_init = 'auto').fit(D_in)\n",
    "    Dbar_in = kmeans.cluster_centers_\n",
    "    weights = np.bincount(kmeans.labels_) / N\n",
    "\n",
    "    return Dbar_in, weights, kmeans"
   ]
  },
  {
   "cell_type": "code",
   "execution_count": 5,
   "metadata": {},
   "outputs": [],
   "source": [
    "def evaluate(buy_p, sell_p, x, d):\n",
    "    \"\"\" Calculates the out of sample expected value\n",
    "    Parameters\n",
    "    ----------\n",
    "    buy_p: vector\n",
    "        Buying Prices\n",
    "    sell_p: vector\n",
    "        Selling Prices\n",
    "    x: vector\n",
    "        Decision variables of the optimization problem\n",
    "    d: matrix\n",
    "        Validation data matrix\n",
    "    Returns:\n",
    "    -------\n",
    "    float: out of sample expected value\n",
    "    \"\"\"\n",
    "    totval = 0\n",
    "    totval = np.maximum(-sell_p[0]*x.value[0], -sell_p[0]*d[:, 0]) + \\\n",
    "        np.maximum(-sell_p[1]*x.value[1], -sell_p[1]*d[:, 1])\n",
    "    return buy_p@x.value + np.mean(totval)"
   ]
  },
  {
   "cell_type": "code",
   "execution_count": 11,
   "metadata": {},
   "outputs": [],
   "source": [
    "N_tot = 100 #Total number of data-points\n",
    "M = 10\n",
    "R = 30     # Total times we repeat experiment to estimate final probabilty\n",
    "n = 2  # number of products\n",
    "eps_nums = np.linspace(0.01,3,30)\n",
    "\n",
    "buy_pval = np.array([4., 5.])\n",
    "sell_pval = np.array([5, 6.5])\n",
    "C_r = np.vstack([-np.eye(2), np.eye(2)])\n",
    "\n",
    "Data = gen_demand(N_tot, R, 2)\n",
    "Data_eval = gen_demand(N_tot, R, 3)"
   ]
  },
  {
   "cell_type": "code",
   "execution_count": 7,
   "metadata": {},
   "outputs": [
    {
     "ename": "TypeError",
     "evalue": "'<=' not supported between instances of 'str' and 'int'",
     "output_type": "error",
     "traceback": [
      "\u001b[1;31m---------------------------------------------------------------------------\u001b[0m",
      "\u001b[1;31mTypeError\u001b[0m                                 Traceback (most recent call last)",
      "Cell \u001b[1;32mIn [7], line 6\u001b[0m\n\u001b[0;32m      3\u001b[0m eps \u001b[38;5;241m=\u001b[39m \u001b[38;5;241m0.1\u001b[39m \u001b[38;5;66;03m#current epsilon\u001b[39;00m\n\u001b[0;32m      5\u001b[0m dat_orig \u001b[38;5;241m=\u001b[39m Data[:, r, :]\n\u001b[1;32m----> 6\u001b[0m d_train, wk, kmeans \u001b[38;5;241m=\u001b[39m \u001b[43mcluster_data\u001b[49m\u001b[43m(\u001b[49m\u001b[43mdat_orig\u001b[49m\u001b[43m,\u001b[49m\u001b[43m \u001b[49m\u001b[43mK\u001b[49m\u001b[43m)\u001b[49m\n\u001b[0;32m      7\u001b[0m dat_eval \u001b[38;5;241m=\u001b[39m Data_eval[:, r, :]\n\u001b[0;32m      8\u001b[0m problem, x, s, lam, data_train_pm, w_pm, eps_pm, gam, buy_p, sell_p \u001b[38;5;241m=\u001b[39m prob_news(K, n)\n",
      "Cell \u001b[1;32mIn [4], line 15\u001b[0m, in \u001b[0;36mcluster_data\u001b[1;34m(D_in, K)\u001b[0m\n\u001b[0;32m      2\u001b[0m \u001b[38;5;124;03m\"\"\"Return K cluster means after clustering D_in into K clusters\u001b[39;00m\n\u001b[0;32m      3\u001b[0m \u001b[38;5;124;03mParameters\u001b[39;00m\n\u001b[0;32m      4\u001b[0m \u001b[38;5;124;03m----------\u001b[39;00m\n\u001b[1;32m   (...)\u001b[0m\n\u001b[0;32m     12\u001b[0m \u001b[38;5;124;03m    Vector of weights for Dbar_in\u001b[39;00m\n\u001b[0;32m     13\u001b[0m \u001b[38;5;124;03m\"\"\"\u001b[39;00m\n\u001b[0;32m     14\u001b[0m N \u001b[38;5;241m=\u001b[39m D_in\u001b[38;5;241m.\u001b[39mshape[\u001b[38;5;241m0\u001b[39m]\n\u001b[1;32m---> 15\u001b[0m kmeans \u001b[38;5;241m=\u001b[39m \u001b[43mKMeans\u001b[49m\u001b[43m(\u001b[49m\u001b[43mn_clusters\u001b[49m\u001b[38;5;241;43m=\u001b[39;49m\u001b[43mK\u001b[49m\u001b[43m,\u001b[49m\u001b[43mn_init\u001b[49m\u001b[43m \u001b[49m\u001b[38;5;241;43m=\u001b[39;49m\u001b[43m \u001b[49m\u001b[38;5;124;43m'\u001b[39;49m\u001b[38;5;124;43mauto\u001b[39;49m\u001b[38;5;124;43m'\u001b[39;49m\u001b[43m)\u001b[49m\u001b[38;5;241;43m.\u001b[39;49m\u001b[43mfit\u001b[49m\u001b[43m(\u001b[49m\u001b[43mD_in\u001b[49m\u001b[43m)\u001b[49m\n\u001b[0;32m     16\u001b[0m Dbar_in \u001b[38;5;241m=\u001b[39m kmeans\u001b[38;5;241m.\u001b[39mcluster_centers_\n\u001b[0;32m     17\u001b[0m weights \u001b[38;5;241m=\u001b[39m np\u001b[38;5;241m.\u001b[39mbincount(kmeans\u001b[38;5;241m.\u001b[39mlabels_) \u001b[38;5;241m/\u001b[39m N\n",
      "File \u001b[1;32mc:\\Users\\utente\\AppData\\Local\\Programs\\Python\\Python310\\lib\\site-packages\\sklearn\\cluster\\_kmeans.py:1376\u001b[0m, in \u001b[0;36mKMeans.fit\u001b[1;34m(self, X, y, sample_weight)\u001b[0m\n\u001b[0;32m   1342\u001b[0m \u001b[38;5;124;03m\"\"\"Compute k-means clustering.\u001b[39;00m\n\u001b[0;32m   1343\u001b[0m \n\u001b[0;32m   1344\u001b[0m \u001b[38;5;124;03mParameters\u001b[39;00m\n\u001b[1;32m   (...)\u001b[0m\n\u001b[0;32m   1365\u001b[0m \u001b[38;5;124;03m    Fitted estimator.\u001b[39;00m\n\u001b[0;32m   1366\u001b[0m \u001b[38;5;124;03m\"\"\"\u001b[39;00m\n\u001b[0;32m   1367\u001b[0m X \u001b[38;5;241m=\u001b[39m \u001b[38;5;28mself\u001b[39m\u001b[38;5;241m.\u001b[39m_validate_data(\n\u001b[0;32m   1368\u001b[0m     X,\n\u001b[0;32m   1369\u001b[0m     accept_sparse\u001b[38;5;241m=\u001b[39m\u001b[38;5;124m\"\u001b[39m\u001b[38;5;124mcsr\u001b[39m\u001b[38;5;124m\"\u001b[39m,\n\u001b[1;32m   (...)\u001b[0m\n\u001b[0;32m   1373\u001b[0m     accept_large_sparse\u001b[38;5;241m=\u001b[39m\u001b[38;5;28;01mFalse\u001b[39;00m,\n\u001b[0;32m   1374\u001b[0m )\n\u001b[1;32m-> 1376\u001b[0m \u001b[38;5;28;43mself\u001b[39;49m\u001b[38;5;241;43m.\u001b[39;49m\u001b[43m_check_params\u001b[49m\u001b[43m(\u001b[49m\u001b[43mX\u001b[49m\u001b[43m)\u001b[49m\n\u001b[0;32m   1377\u001b[0m random_state \u001b[38;5;241m=\u001b[39m check_random_state(\u001b[38;5;28mself\u001b[39m\u001b[38;5;241m.\u001b[39mrandom_state)\n\u001b[0;32m   1378\u001b[0m sample_weight \u001b[38;5;241m=\u001b[39m _check_sample_weight(sample_weight, X, dtype\u001b[38;5;241m=\u001b[39mX\u001b[38;5;241m.\u001b[39mdtype)\n",
      "File \u001b[1;32mc:\\Users\\utente\\AppData\\Local\\Programs\\Python\\Python310\\lib\\site-packages\\sklearn\\cluster\\_kmeans.py:1307\u001b[0m, in \u001b[0;36mKMeans._check_params\u001b[1;34m(self, X)\u001b[0m\n\u001b[0;32m   1306\u001b[0m \u001b[38;5;28;01mdef\u001b[39;00m \u001b[38;5;21m_check_params\u001b[39m(\u001b[38;5;28mself\u001b[39m, X):\n\u001b[1;32m-> 1307\u001b[0m     \u001b[38;5;28;43msuper\u001b[39;49m\u001b[43m(\u001b[49m\u001b[43m)\u001b[49m\u001b[38;5;241;43m.\u001b[39;49m\u001b[43m_check_params\u001b[49m\u001b[43m(\u001b[49m\u001b[43mX\u001b[49m\u001b[43m)\u001b[49m\n\u001b[0;32m   1309\u001b[0m     \u001b[38;5;66;03m# algorithm\u001b[39;00m\n\u001b[0;32m   1310\u001b[0m     \u001b[38;5;28;01mif\u001b[39;00m \u001b[38;5;28mself\u001b[39m\u001b[38;5;241m.\u001b[39malgorithm \u001b[38;5;129;01mnot\u001b[39;00m \u001b[38;5;129;01min\u001b[39;00m (\u001b[38;5;124m\"\u001b[39m\u001b[38;5;124mlloyd\u001b[39m\u001b[38;5;124m\"\u001b[39m, \u001b[38;5;124m\"\u001b[39m\u001b[38;5;124melkan\u001b[39m\u001b[38;5;124m\"\u001b[39m, \u001b[38;5;124m\"\u001b[39m\u001b[38;5;124mauto\u001b[39m\u001b[38;5;124m\"\u001b[39m, \u001b[38;5;124m\"\u001b[39m\u001b[38;5;124mfull\u001b[39m\u001b[38;5;124m\"\u001b[39m):\n",
      "File \u001b[1;32mc:\\Users\\utente\\AppData\\Local\\Programs\\Python\\Python310\\lib\\site-packages\\sklearn\\cluster\\_kmeans.py:818\u001b[0m, in \u001b[0;36m_BaseKMeans._check_params\u001b[1;34m(self, X)\u001b[0m\n\u001b[0;32m    816\u001b[0m \u001b[38;5;28;01mdef\u001b[39;00m \u001b[38;5;21m_check_params\u001b[39m(\u001b[38;5;28mself\u001b[39m, X):\n\u001b[0;32m    817\u001b[0m     \u001b[38;5;66;03m# n_init\u001b[39;00m\n\u001b[1;32m--> 818\u001b[0m     \u001b[38;5;28;01mif\u001b[39;00m \u001b[38;5;28;43mself\u001b[39;49m\u001b[38;5;241;43m.\u001b[39;49m\u001b[43mn_init\u001b[49m\u001b[43m \u001b[49m\u001b[38;5;241;43m<\u001b[39;49m\u001b[38;5;241;43m=\u001b[39;49m\u001b[43m \u001b[49m\u001b[38;5;241;43m0\u001b[39;49m:\n\u001b[0;32m    819\u001b[0m         \u001b[38;5;28;01mraise\u001b[39;00m \u001b[38;5;167;01mValueError\u001b[39;00m(\u001b[38;5;124mf\u001b[39m\u001b[38;5;124m\"\u001b[39m\u001b[38;5;124mn_init should be > 0, got \u001b[39m\u001b[38;5;132;01m{\u001b[39;00m\u001b[38;5;28mself\u001b[39m\u001b[38;5;241m.\u001b[39mn_init\u001b[38;5;132;01m}\u001b[39;00m\u001b[38;5;124m instead.\u001b[39m\u001b[38;5;124m\"\u001b[39m)\n\u001b[0;32m    820\u001b[0m     \u001b[38;5;28mself\u001b[39m\u001b[38;5;241m.\u001b[39m_n_init \u001b[38;5;241m=\u001b[39m \u001b[38;5;28mself\u001b[39m\u001b[38;5;241m.\u001b[39mn_init\n",
      "\u001b[1;31mTypeError\u001b[0m: '<=' not supported between instances of 'str' and 'int'"
     ]
    }
   ],
   "source": [
    "K = 10 # number of clusters\n",
    "r = 0 # current iteration\n",
    "eps = 0.1 #current epsilon\n",
    "\n",
    "dat_orig = Data[:, r, :]\n",
    "d_train, wk, kmeans = cluster_data(dat_orig, K)\n",
    "dat_eval = Data_eval[:, r, :]\n",
    "problem, x, s, lam, data_train_pm, w_pm, eps_pm, gam, buy_p, sell_p = prob_news(K, n)\n",
    "data_train_pm.value = d_train\n",
    "w_pm.value = wk\n",
    "buy_p.value = buy_pval\n",
    "sell_p.value = sell_pval\n",
    "eps_pm.value = eps\n",
    "problem.solve(solver = cp.CLARABEL)\n",
    "evalvalue = evaluate(buy_pval, sell_pval, x, dat_eval) \n",
    "satisfy = float(evalvalue <= problem.objective.value) \n",
    "print(\"DRO objective value :\", problem.objective.value)\n",
    "print(\"Out-of-sample expected value :\", evalvalue)\n",
    "print(\"Boolean for constraint satisfaction: \", satisfy)"
   ]
  }
 ],
 "metadata": {
  "kernelspec": {
   "display_name": "Python 3",
   "language": "python",
   "name": "python3"
  },
  "language_info": {
   "codemirror_mode": {
    "name": "ipython",
    "version": 3
   },
   "file_extension": ".py",
   "mimetype": "text/x-python",
   "name": "python",
   "nbconvert_exporter": "python",
   "pygments_lexer": "ipython3",
   "version": "undefined.undefined.undefined"
  }
 },
 "nbformat": 4,
 "nbformat_minor": 2
}
