{
 "cells": [
  {
   "cell_type": "code",
   "execution_count": 304,
   "metadata": {},
   "outputs": [],
   "source": [
    "import cvxpy as cp\n",
    "import numpy as np\n",
    "import pandas as pd\n",
    "from sklearn.cluster import KMeans\n",
    "import matplotlib.pyplot as plt\n",
    "from scipy.stats import lognorm\n",
    "from sklearn.metrics import pairwise_distances\n",
    "from scipy.spatial.distance import cdist\n",
    "import warnings\n",
    "warnings.filterwarnings('ignore')\n",
    "from cvxpy.atoms.norm_inf import norm_inf"
   ]
  },
  {
   "cell_type": "code",
   "execution_count": 305,
   "metadata": {},
   "outputs": [],
   "source": [
    "def prob_news(K,P):\n",
    "    \"\"\"Create the problem in cvxpy\n",
    "    Parameters\n",
    "    ----------\n",
    "    K: int\n",
    "        Number of data samples (clusters)\n",
    "    -------\n",
    "    The instance and parameters of the cvxpy problem\n",
    "    \"\"\"\n",
    "\n",
    "    wk = cp.Parameter(K)\n",
    "    eps = cp.Parameter()\n",
    "    d_train = cp.Parameter(K)\n",
    "    x = cp.Variable(1)\n",
    "    s = cp.Variable(K)\n",
    "    lam = cp.Variable()\n",
    "    gamma_0 = cp.Variable((K,2))\n",
    "    gamma_1 = cp.Variable((K,2))\n",
    "    gamma_2 = cp.Variable((K,2))\n",
    "    gamma_3 = cp.Variable((K,2))\n",
    "    \n",
    "    d = np.array([[0], [100]])\n",
    "    C = np.array([[-1],[1]])\n",
    "\n",
    "    objective = cp.Minimize(eps*lam + s@wk)\n",
    "    constraints = []\n",
    "    # formulate constraints\n",
    "\n",
    "    for k in range(K):\n",
    "             \n",
    "        constraints += [gamma_0[k:k+1,:]@(d - C*d_train[k]) <= s[k]]\n",
    "        constraints += [norm_inf(gamma_0[k,:]@C) <= lam]\n",
    "        constraints += [gamma_0 >= 0]\n",
    "\n",
    "        constraints += [10*x -10*d_train[k] + gamma_1[k:k+1,:]@(d - C*d_train[k]) <= s[k]]\n",
    "        constraints += [norm_inf(gamma_1[k,:]@C + 10) <= lam]\n",
    "        constraints += [gamma_1 >= 0]\n",
    "\n",
    "        constraints += [-20*x + 20*d_train[k] + gamma_2[k:k+1,:]@(d - C*d_train[k]) <= s[k]]\n",
    "        constraints += [norm_inf(gamma_2[k,:]@C - 20) <= lam]\n",
    "        constraints += [gamma_2 >= 0]\n",
    "\n",
    "        constraints += [(10-20)*x + (20-10)*d_train[k] + gamma_3[k:k+1,:]@(d - C*d_train[k]) <= s[k]]\n",
    "        constraints += [norm_inf(gamma_3[k,:]@C + (10-20)) <= lam]  \n",
    "        constraints += [gamma_3 >= 0]\n",
    "\n",
    "    constraints += [lam >= 0, x >=0, x<= P]\n",
    "    \n",
    "    problem = cp.Problem(objective, constraints)\n",
    "\n",
    "    return problem, x, s, gamma_0, gamma_1, gamma_2, gamma_3, lam, d_train, wk, eps"
   ]
  },
  {
   "cell_type": "code",
   "execution_count": 306,
   "metadata": {},
   "outputs": [],
   "source": [
    "def gen_demand(N,seed, mu, sig, P):\n",
    "    \"\"\" Generates log-normal demand, clipped to be within polyhedral\"\"\"\n",
    "    np.random.seed(seed)\n",
    "    # Create the log-normal distribution\n",
    "    #s = sig  # Shape parameter for lognorm\n",
    "    #scale = np.exp(mu)  # Scale parameter for lognorm\n",
    "    #lognormal_dist = lognorm(s=s, scale=scale)\n",
    "    a = 1 + (sig / mu) ** 2\n",
    "    s = np.sqrt(np.log(a))\n",
    "    scale = mu / np.sqrt(a)\n",
    "\n",
    "    # Generate log-normal distribution\n",
    "    #samples = lognorm.rvs(s=s, scale=scale, size=10000)\n",
    "\n",
    "    # Clip the samples between 0 and 100\n",
    "    #samples = np.clip(samples, 0, 100)\n",
    "    lognormal_dist = lognorm(s=s, scale=scale)\n",
    "\n",
    "    # Generate random samples\n",
    "    samples = lognormal_dist.rvs(size=N)\n",
    "\n",
    "    true_dist = lognormal_dist.rvs(size=10000)\n",
    "\n",
    "    # Plot the probability density function (pdf)\n",
    "    x = np.linspace(0, P, 100)\n",
    "    plt.plot(x, lognormal_dist.pdf(x), label='Log-Normal PDF')\n",
    "    plt.plot(x, lognormal_dist.cdf(x), label='Log-Normal CDF')\n",
    "    plt.xlabel('x')\n",
    "    plt.ylabel('Density')\n",
    "    plt.title('Log-Normal Distribution (0 to P)')\n",
    "    plt.legend()\n",
    "    plt.show()\n",
    "    return samples, true_dist, s, scale"
   ]
  },
  {
   "cell_type": "code",
   "execution_count": 307,
   "metadata": {},
   "outputs": [],
   "source": [
    "def position_points(K, P):\n",
    "    # Generate K equally spaced initial centroids\n",
    "    centroids = np.linspace(0+2, P-2, K).reshape(-1, 1)\n",
    "\n",
    "    # Initialize K-means with the centroids\n",
    "    kmeans = KMeans(n_clusters=K, init=centroids, n_init=1, max_iter=200)\n",
    "\n",
    "    # Fit K-means to the data (which is just the centroids)\n",
    "    kmeans.fit(centroids)\n",
    "\n",
    "    # Get the final centroids (positions of the points)\n",
    "    final_centroids = kmeans.cluster_centers_.flatten()\n",
    "    \n",
    "    # Calculate the minimum distance between adjacent centroids\n",
    "    distances = np.diff(final_centroids)\n",
    "    min_distance = np.min(distances)\n",
    "\n",
    "    # Calculate mu (half of the minimum distance)\n",
    "    rad = min_distance / 2.0\n",
    "\n",
    "    plt.scatter(final_centroids,np.ones(K,))\n",
    "\n",
    "    return rad, final_centroids"
   ]
  },
  {
   "cell_type": "code",
   "execution_count": 308,
   "metadata": {},
   "outputs": [],
   "source": [
    "def get_initial_weigths(d_train,atoms):\n",
    "    # Compute distances between each data point and the centroids\n",
    "    #distances_to_centroids = pairwise_distances(d_train.reshape(1,-1), atoms, metric='euclidean')\n",
    "    d_train = np.reshape(d_train, (-1, 1))\n",
    "    atoms = np.reshape(atoms, (-1, 1))\n",
    "    \n",
    "    distances = cdist(d_train, atoms, metric='euclidean')\n",
    "    \n",
    "    # Assign each data point to the closest centroid\n",
    "    cluster_assignment = np.argmin(distances, axis=1)\n",
    "    cluster_assignment = cluster_assignment.tolist()\n",
    "\n",
    "    #cluster_counts = np.bincount(cluster_assignment)\n",
    "    counter = np.empty(atoms.shape[0])\n",
    "    for k in range(atoms.shape[0]):\n",
    "        counter[k] = cluster_assignment.count(k)\n",
    "\n",
    "    total_data_points = len(d_train)\n",
    "    weights = counter / total_data_points\n",
    "    \n",
    "    return weights, counter"
   ]
  },
  {
   "cell_type": "code",
   "execution_count": 309,
   "metadata": {},
   "outputs": [],
   "source": [
    "def update_ambiguity(counter_curr, N, w, K, atoms, beta,C):\n",
    "    w = np.reshape(w, (-1, 1))\n",
    "    atoms = np.reshape(atoms, (-1, 1))\n",
    "    \n",
    "    distances = cdist(w, atoms, metric='euclidean')\n",
    "    cluster_assignment = np.argmin(distances, axis=1)\n",
    "    cluster_assignment = cluster_assignment.tolist()\n",
    "\n",
    "\n",
    "    counter = np.empty(shape=(K,), dtype=int)\n",
    "    counter = counter_curr\n",
    "    weights = np.empty(shape=(K,), dtype=int)\n",
    "    idx = cluster_assignment[0]\n",
    "    counter[idx] = counter_curr[idx] + 1\n",
    "    \n",
    "    weights = counter/N\n",
    "\n",
    "    radius = C*np.sqrt(np.log(1/beta))*1/np.sqrt(N)\n",
    "\n",
    "    return weights, counter, radius\n",
    "    \n",
    "    "
   ]
  },
  {
   "cell_type": "code",
   "execution_count": 325,
   "metadata": {},
   "outputs": [
    {
     "name": "stdout",
     "output_type": "stream",
     "text": [
      "[59.91418607 42.82380425 49.38035496 67.3781906  61.46073625 30.50654107\n",
      " 49.03324594 37.38613332 37.83189491 42.93403999 40.20670002 55.51422814\n",
      " 46.80314339 39.98586626 43.28713375 42.12850804 56.06099555 36.89414759\n",
      " 41.91529871 31.44597871]\n"
     ]
    }
   ],
   "source": [
    "N_off = 20\n",
    "K = 2\n",
    "P = 100\n",
    "b = 20\n",
    "h = 10\n",
    "mu = 40\n",
    "sig = 10\n",
    "r = 0.6\n",
    "alpha = 1 - r - 0.002\n",
    "beta_0 = alpha\n",
    "C = 100\n",
    "\n",
    "# generate initial samples of demand \n",
    "samples_off, true_dist, tmp, tmp1 = gen_demand(N_off,0, mu, sig, P)\n",
    "print(samples_off)\n"
   ]
  },
  {
   "cell_type": "code",
   "execution_count": 326,
   "metadata": {},
   "outputs": [
    {
     "name": "stdout",
     "output_type": "stream",
     "text": [
      "48.0\n"
     ]
    },
    {
     "data": {
      "image/png": "[encoded data removed]",
      "text/plain": [
       "<Figure size 640x480 with 1 Axes>"
      ]
     },
     "metadata": {},
     "output_type": "display_data"
    }
   ],
   "source": [
    "# defines atoms via covering\n",
    "[eta, atoms] = position_points(K, P)\n",
    "print(eta)"
   ]
  },
  {
   "cell_type": "code",
   "execution_count": 329,
   "metadata": {},
   "outputs": [
    {
     "name": "stdout",
     "output_type": "stream",
     "text": [
      "21.462796575676002\n",
      "48.0\n",
      "[15.  5.]\n",
      "[0.75 0.25]\n"
     ]
    }
   ],
   "source": [
    "# define initial ambiguity set\n",
    "\n",
    "weigths_init, counter_init = get_initial_weigths(np.array(samples_off),np.array(atoms))\n",
    "radius_true_init = C*np.sqrt(np.log(1/beta_0))*(1/np.sqrt(N_off)) \n",
    "radius_init = radius_true_init + eta\n",
    "\n",
    "print(radius_true_init)\n",
    "print(eta)\n",
    "print(counter_init)\n",
    "print(weigths_init)"
   ]
  },
  {
   "cell_type": "code",
   "execution_count": 328,
   "metadata": {},
   "outputs": [
    {
     "name": "stdout",
     "output_type": "stream",
     "text": [
      "[59.91418607]\n"
     ]
    }
   ],
   "source": [
    "w,tmp,tmp1,tmp2 = gen_demand(1,0, mu, sig, P)\n",
    "print(w)"
   ]
  },
  {
   "cell_type": "code",
   "execution_count": 330,
   "metadata": {},
   "outputs": [
    {
     "name": "stdout",
     "output_type": "stream",
     "text": [
      "[15.  6.]\n",
      "[0.71428571 0.28571429]\n"
     ]
    }
   ],
   "source": [
    "weights_next, counter_next, radius_next = update_ambiguity(counter_init, N_off + (0+1), w, K, atoms, 0.7,C)\n",
    "print(counter_next)\n",
    "print(weights_next)"
   ]
  },
  {
   "cell_type": "code",
   "execution_count": 313,
   "metadata": {},
   "outputs": [],
   "source": [
    "# set optimization routine\n",
    "[problem, x, s, gamma_0, gamma_1, gamma_2, gamma_3, lam, d_train, wk, eps] = prob_news(K,P)"
   ]
  },
  {
   "cell_type": "code",
   "execution_count": 315,
   "metadata": {},
   "outputs": [],
   "source": [
    "# optimization routine\n",
    "T_sim = 1000\n",
    "\n",
    "weights = weigths_init\n",
    "counter = counter_init\n",
    "radius = radius_init\n",
    "d_train.value = atoms\n",
    "\n",
    "obj = np.empty((T_sim,1))\n",
    "\n",
    "for t in range(T_sim):\n",
    "    wk.value = weights\n",
    "    eps.value = radius\n",
    "    problem.solve(solver = cp.CLARABEL)\n",
    "    obj[t] = problem.value\n",
    "\n",
    "    # new realization\n",
    "    w,tmp,tmp1,tmp2 = gen_demand(1,0, mu, sig, P)\n",
    "    \n",
    "    # update confidence\n",
    "    beta_next = alpha*np.power(r, t+1)\n",
    "\n",
    "    # update ambiguity set\n",
    "    weights_next, counter_next, radius_next = update_ambiguity(counter, N_off + (t+1), w, K, atoms, beta_next,C)\n",
    "    weights = weights_next\n",
    "    radius = radius_next + eta\n",
    "\n",
    "\n"
   ]
  },
  {
   "cell_type": "code",
   "execution_count": 316,
   "metadata": {},
   "outputs": [
    {
     "data": {
      "image/png": "[encoded data removed]",
      "text/plain": [
       "<Figure size 640x480 with 1 Axes>"
      ]
     },
     "metadata": {},
     "output_type": "display_data"
    }
   ],
   "source": [
    "# plots distribution\n",
    "plt.scatter(atoms, weights_next)\n",
    "tmp,tmp1,s,scale = gen_demand(1,0, mu, sig, P) \n",
    "lognormal_dist = lognorm(s=s, scale=scale)\n",
    "# Plot the probability density function (pdf)\n",
    "x = np.linspace(0, P, 100)\n",
    "plt.plot(x, lognormal_dist.pdf(x), label='Log-Normal PDF')\n",
    "plt.xlabel('x')\n",
    "plt.ylabel('Density')\n",
    "plt.title('Log-Normal Distribution (0 to P)')\n",
    "plt.legend()\n",
    "plt.show()"
   ]
  },
  {
   "cell_type": "code",
   "execution_count": 320,
   "metadata": {},
   "outputs": [
    {
     "name": "stdout",
     "output_type": "stream",
     "text": [
      "0.6666666666666666\n",
      "21.273183801726773\n",
      "[523.40028406]\n"
     ]
    },
    {
     "data": {
      "image/png": "[encoded data removed]",
      "text/plain": [
       "<Figure size 640x480 with 1 Axes>"
      ]
     },
     "metadata": {},
     "output_type": "display_data"
    }
   ],
   "source": [
    "# plots\n",
    "q = b/(h+b)\n",
    "print(q)\n",
    "ground_truth = np.percentile(true_dist, q)\n",
    "\n",
    "plt.plot(obj)\n",
    "print(ground_truth)\n",
    "print(obj[-1])"
   ]
  },
  {
   "cell_type": "code",
   "execution_count": null,
   "metadata": {},
   "outputs": [],
   "source": []
  }
 ],
 "metadata": {
  "kernelspec": {
   "display_name": "base",
   "language": "python",
   "name": "python3"
  },
  "language_info": {
   "codemirror_mode": {
    "name": "ipython",
    "version": 3
   },
   "file_extension": ".py",
   "mimetype": "text/x-python",
   "name": "python",
   "nbconvert_exporter": "python",
   "pygments_lexer": "ipython3",
   "version": "3.8.5"
  }
 },
 "nbformat": 4,
 "nbformat_minor": 2
}
